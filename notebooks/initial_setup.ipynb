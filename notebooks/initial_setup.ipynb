{
 "cells": [
  {
   "cell_type": "code",
   "execution_count": 3,
   "id": "5e1512c4-fe75-4115-bb82-91f510648bb6",
   "metadata": {},
   "outputs": [
    {
     "name": "stdout",
     "output_type": "stream",
     "text": [
      "Directory /proj/src/Py already exists. No files were created.\n",
      "Directory /proj/run/Py already exists. No files were created.\n",
      "Directory /proj/inputs already exists. No files were created.\n",
      "Directory /proj/outputs already exists. No files were created.\n",
      "src_Py: /proj/src/Py\n",
      "run_Py: /proj/run/Py\n",
      "inputs: /proj/inputs\n",
      "outputs: /proj/outputs\n"
     ]
    }
   ],
   "source": [
    "# set a directory structure\n",
    "\n",
    "import os  # Import the os module to interact with the operating system\n",
    "\n",
    "def create_directory_structure(root_dir):\n",
    "    # Define paths for src, run, inputs, and outputs\n",
    "    src_at = os.path.join(root_dir, \"src\", \"Py\")  # Path for the source directory\n",
    "    run_at = os.path.join(root_dir, \"run\", \"Py\")  # Path for the run directory\n",
    "    inputs_at = os.path.join(root_dir, \"inputs\")  # Path for the inputs directory\n",
    "    outputs_at = os.path.join(root_dir, \"outputs\")  # New output directory\n",
    "\n",
    "    # Create a dictionary to define directories and their initial files\n",
    "    directories_and_files = {\n",
    "        src_at: {  # Source directory with initial files\n",
    "            '__init__.py': \"# Sample package initialization\\n\",  # Package init file\n",
    "            'libs.py': \"# Add common libraries here to be loaded for all analysis\\n\",  # Placeholder for common libraries\n",
    "            'func.py': \"# Add custom functions here to be loaded for all analysis\\n\"  # Placeholder for custom functions\n",
    "        },\n",
    "        run_at: {  # Run directory with a main script\n",
    "            'dodo.py': \"#!/usr/bin/env python3\"  # Shebang for executing the script\n",
    "        },\n",
    "        inputs_at: {},  # Inputs directory (no initial files)\n",
    "        outputs_at: {}  # Outputs directory (no initial files)\n",
    "    }\n",
    "\n",
    "    created_directories = {}  # Initialize a dictionary to track created directories\n",
    "\n",
    "    # Iterate through the directories and their associated files\n",
    "    for directory, files in directories_and_files.items():\n",
    "        # Create the directory if it doesn't exist\n",
    "        if not os.path.exists(directory):\n",
    "            os.makedirs(directory)  # Create the directory\n",
    "            # Store the absolute path of the created directory with a modified key\n",
    "            created_directories[directory.replace(root_dir + '/', '').replace('/', '_')] = os.path.abspath(directory)  \n",
    "            # Create and write the specified files in the new directory\n",
    "            for file_name, content in files.items():\n",
    "                with open(os.path.join(directory, file_name), 'w') as f:  # Open a new file for writing\n",
    "                    f.write(content)  # Write the initial content to the file\n",
    "        else:\n",
    "            print(f\"Directory {directory} already exists. No files were created.\")  # Inform if the directory already exists\n",
    "            # Store the absolute path of the existing directory with a modified key\n",
    "            created_directories[directory.replace(root_dir + '/', '').replace('/', '_')] = os.path.abspath(directory)  \n",
    "\n",
    "    return created_directories  # Return the dictionary of created or existing directories\n",
    "\n",
    "# Define the root directory\n",
    "root_dir = '/proj'\n",
    "directory_structure = create_directory_structure(root_dir) # you can save this for accessing the directories later"
   ]
  }
 ],
 "metadata": {
  "kernelspec": {
   "display_name": "Python 3 (ipykernel)",
   "language": "python",
   "name": "python3"
  },
  "language_info": {
   "codemirror_mode": {
    "name": "ipython",
    "version": 3
   },
   "file_extension": ".py",
   "mimetype": "text/x-python",
   "name": "python",
   "nbconvert_exporter": "python",
   "pygments_lexer": "ipython3",
   "version": "3.8.10"
  }
 },
 "nbformat": 4,
 "nbformat_minor": 5
}
