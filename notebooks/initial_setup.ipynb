{
 "cells": [
  {
   "cell_type": "code",
   "execution_count": 1,
   "id": "37edd6bc-82fa-46b5-b778-95ef8f7a4a2d",
   "metadata": {},
   "outputs": [],
   "source": [
    "# Create a directory structure \n",
    "import os\n",
    "\n",
    "# Define the root directory\n",
    "root_dir = '/proj'"
   ]
  },
  {
   "cell_type": "code",
   "execution_count": 2,
   "id": "deff43b5-f1ee-4f41-9994-65307b1f6dd8",
   "metadata": {},
   "outputs": [
    {
     "name": "stdout",
     "output_type": "stream",
     "text": [
      "Directory /proj/src/Py already exists. No files were created.\n"
     ]
    }
   ],
   "source": [
    "# Create src directories to store all scripts\n",
    "src_at = os.path.join(root_dir, \"src\", \"Py\")\n",
    "\n",
    "# Check if the directory already exists\n",
    "if not os.path.exists(src_at):\n",
    "    # Create src directories to store all scripts\n",
    "    os.makedirs(src_at)\n",
    "\n",
    "    # Create __init__.py to define it as a package\n",
    "    with open(f\"{src_at}/__init__.py\", 'w') as f:\n",
    "        f.write(\"# Sample package initialization\\n\")\n",
    "    \n",
    "    # Create libs.py to define common libraries\n",
    "    with open(f\"{src_at}/libs.py\", 'w') as f:\n",
    "        f.write(\"# Add common libraries here to be loaded for all analysis\\n\")\n",
    "    \n",
    "    # Create func.py to define common functions\n",
    "    with open(f\"{src_at}/func.py\", 'w') as f:\n",
    "        f.write(\"# Add custom functions here to be loaded for all analysis\\n\")\n",
    "else:\n",
    "    print(f\"Directory {src_at} already exists. No files were created.\")"
   ]
  },
  {
   "cell_type": "code",
   "execution_count": 3,
   "id": "7ee6173d-1af1-4224-8839-608bd23ad342",
   "metadata": {},
   "outputs": [],
   "source": [
    "# Create run directories to store scripts that run the analysis\n",
    "run_at = os.path.join(root_dir, \"run\", \"Py\")\n",
    "\n",
    "# Check if the directory already exists\n",
    "if not os.path.exists(run_at):\n",
    "    # Create src directories to store all scripts\n",
    "    os.makedirs(run_at)\n",
    "    \n",
    "    # Create dodo.py for run management\n",
    "    with open(f\"{run_at}/dodo.py\", 'w') as f:\n",
    "        f.write(\"#!/usr/bin/env python3\")"
   ]
  }
 ],
 "metadata": {
  "kernelspec": {
   "display_name": "py_env",
   "language": "python",
   "name": "py_env"
  },
  "language_info": {
   "codemirror_mode": {
    "name": "ipython",
    "version": 3
   },
   "file_extension": ".py",
   "mimetype": "text/x-python",
   "name": "python",
   "nbconvert_exporter": "python",
   "pygments_lexer": "ipython3",
   "version": "3.8.10"
  }
 },
 "nbformat": 4,
 "nbformat_minor": 5
}
